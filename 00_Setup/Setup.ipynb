{
 "cells": [
  {
   "cell_type": "markdown",
   "metadata": {},
   "source": [
    "## Install Libraries\n",
    "\n",
    "We will install the software libraries necessary for this week's tutorials, and test them to make sure they work.\n",
    "\n",
    "You can try to install all  required componenets by running the comand below.\n",
    "\n",
    "If that does not work you can slo use command-line or terminal. Have alook at the linked page for more detail. [the linked wiki page will help you](https://github.com/DavidGoedicke/RealtimeAudioClassification/wiki/Command-lines-and-terminals-a-quick-introduction.md)\n",
    "\n",
    "The libraries that we will use.\n",
    "\n",
    "[NumPy](https://en.wikipedia.org/wiki/NumPy) (Python support for large, multi-dimensional arrays and matrices ).\n",
    "\n",
    "[MatplotLib](https://matplotlib.org) (Python 2D plotting library).\n",
    "\n",
    "[pyTorch](https://pytorch.org/get-started/locally/) (Python Machine Learning Library).\n",
    "\n",
    "[sklearn](https://scikit-learn.org/stable/) (SciKit Machine Learning library).\n",
    "\n",
    "[librosa](https://librosa.github.io/librosa/) (Music and Audio analysis library).\n",
    "\n",
    "[PyAudio](https://people.csail.mit.edu/hubert/pyaudio/) (Python bindings for PortAudio, the cross-platform audio I/O library).\n"
   ]
  },
  {
   "cell_type": "code",
   "execution_count": 3,
   "metadata": {
    "ExecuteTime": {
     "end_time": "2020-07-25T23:31:05.053465Z",
     "start_time": "2020-07-25T23:31:03.809821Z"
    },
    "scrolled": true
   },
   "outputs": [
    {
     "name": "stdout",
     "output_type": "stream",
     "text": [
      "Collecting numpy\n",
      "  Using cached numpy-1.19.1-cp38-cp38-macosx_10_9_x86_64.whl (15.3 MB)\n",
      "Collecting matplotlib\n",
      "  Using cached matplotlib-3.3.0-1-cp38-cp38-macosx_10_9_x86_64.whl (11.4 MB)\n",
      "Collecting torch\n",
      "  Using cached torch-1.6.0-cp38-none-macosx_10_9_x86_64.whl (97.5 MB)\n",
      "Collecting torchvision\n",
      "  Using cached torchvision-0.7.0-cp38-cp38-macosx_10_9_x86_64.whl (387 kB)\n",
      "Collecting scikit-learn\n",
      "  Using cached scikit_learn-0.23.1-cp38-cp38-macosx_10_9_x86_64.whl (7.2 MB)\n",
      "Processing /Users/giles/Library/Caches/pip/wheels/aa/5a/92/d52f6f8560ff05a2525e6030a1903412df876714241fb76802/librosa-0.8.0-py3-none-any.whl\n",
      "Processing /Users/giles/Library/Caches/pip/wheels/cf/be/f6/06f4d9fb96713a3ba58a480dd5739b3bf66ff0430de58a38c1/PyAudio-0.2.11-cp38-cp38-macosx_10_14_x86_64.whl\n",
      "Collecting numpy_ringbuffer\n",
      "  Using cached numpy_ringbuffer-0.2.1-py2.py3-none-any.whl (3.8 kB)\n",
      "Collecting ipywidgets\n",
      "  Using cached ipywidgets-7.5.1-py2.py3-none-any.whl (121 kB)\n",
      "Collecting kiwisolver>=1.0.1\n",
      "  Using cached kiwisolver-1.2.0-cp38-cp38-macosx_10_9_x86_64.whl (60 kB)\n",
      "Collecting cycler>=0.10\n",
      "  Using cached cycler-0.10.0-py2.py3-none-any.whl (6.5 kB)\n",
      "Requirement already satisfied: python-dateutil>=2.1 in /usr/local/Cellar/jupyterlab/2.2.2/libexec/lib/python3.8/site-packages (from matplotlib) (2.8.1)\n",
      "Collecting pillow>=6.2.0\n",
      "  Using cached Pillow-7.2.0-cp38-cp38-macosx_10_10_x86_64.whl (2.2 MB)\n",
      "Requirement already satisfied: pyparsing!=2.0.4,!=2.1.2,!=2.1.6,>=2.0.3 in /usr/local/Cellar/jupyterlab/2.2.2/libexec/lib/python3.8/site-packages (from matplotlib) (2.4.7)\n",
      "Processing /Users/giles/Library/Caches/pip/wheels/8e/70/28/3d6ccd6e315f65f245da085482a2e1c7d14b90b30f239e2cf4/future-0.18.2-py3-none-any.whl\n",
      "Collecting threadpoolctl>=2.0.0\n",
      "  Using cached threadpoolctl-2.1.0-py3-none-any.whl (12 kB)\n",
      "Collecting joblib>=0.11\n",
      "  Using cached joblib-0.16.0-py3-none-any.whl (300 kB)\n",
      "Collecting scipy>=0.19.1\n",
      "  Using cached scipy-1.5.2-cp38-cp38-macosx_10_9_x86_64.whl (28.9 MB)\n",
      "Collecting numba>=0.43.0\n",
      "  Using cached numba-0.50.1-cp38-cp38-macosx_10_14_x86_64.whl (2.1 MB)\n",
      "Collecting soundfile>=0.9.0\n",
      "  Using cached SoundFile-0.10.3.post1-py2.py3.cp26.cp27.cp32.cp33.cp34.cp35.cp36.pp27.pp32.pp33-none-macosx_10_5_x86_64.macosx_10_6_intel.macosx_10_9_intel.macosx_10_9_x86_64.whl (613 kB)\n",
      "Processing /Users/giles/Library/Caches/pip/wheels/6f/d1/5d/f13da53b1dcbc2624ff548456c9ffb526c914f53c12c318bb4/resampy-0.2.2-py3-none-any.whl\n",
      "Requirement already satisfied: decorator>=3.0.0 in /usr/local/Cellar/jupyterlab/2.2.2/libexec/lib/python3.8/site-packages (from librosa) (4.4.2)\n",
      "Collecting pooch>=1.0\n",
      "  Using cached pooch-1.1.1-py3-none-any.whl (45 kB)\n",
      "Processing /Users/giles/Library/Caches/pip/wheels/9b/94/80/3673f65684ab97e08999d1460fc1b238df7701805c739791cd/audioread-2.1.8-py3-none-any.whl\n",
      "Requirement already satisfied: ipython>=4.0.0; python_version >= \"3.3\" in /usr/local/Cellar/jupyterlab/2.2.2/libexec/lib/python3.8/site-packages (from ipywidgets) (7.16.1)\n",
      "Requirement already satisfied: nbformat>=4.2.0 in /usr/local/Cellar/jupyterlab/2.2.2/libexec/lib/python3.8/site-packages (from ipywidgets) (5.0.7)\n",
      "Requirement already satisfied: traitlets>=4.3.1 in /usr/local/Cellar/jupyterlab/2.2.2/libexec/lib/python3.8/site-packages (from ipywidgets) (4.3.3)\n",
      "Collecting widgetsnbextension~=3.5.0\n",
      "  Using cached widgetsnbextension-3.5.1-py2.py3-none-any.whl (2.2 MB)\n",
      "Requirement already satisfied: ipykernel>=4.5.1 in /usr/local/Cellar/jupyterlab/2.2.2/libexec/lib/python3.8/site-packages (from ipywidgets) (5.3.4)\n",
      "Requirement already satisfied: six in /usr/local/Cellar/jupyterlab/2.2.2/libexec/lib/python3.8/site-packages (from cycler>=0.10->matplotlib) (1.15.0)\n",
      "Collecting llvmlite<0.34,>=0.33.0.dev0\n",
      "  Using cached llvmlite-0.33.0-cp38-cp38-macosx_10_9_x86_64.whl (17.3 MB)\n",
      "Requirement already satisfied: setuptools in /usr/local/Cellar/jupyterlab/2.2.2/libexec/lib/python3.8/site-packages (from numba>=0.43.0->librosa) (49.2.0)\n",
      "Collecting cffi>=1.0\n",
      "  Using cached cffi-1.14.1-cp38-cp38-macosx_10_9_x86_64.whl (176 kB)\n",
      "Requirement already satisfied: requests in /usr/local/Cellar/jupyterlab/2.2.2/libexec/lib/python3.8/site-packages (from pooch>=1.0->librosa) (2.24.0)\n",
      "Requirement already satisfied: packaging in /usr/local/Cellar/jupyterlab/2.2.2/libexec/lib/python3.8/site-packages (from pooch>=1.0->librosa) (20.4)\n",
      "Collecting appdirs\n",
      "  Using cached appdirs-1.4.4-py2.py3-none-any.whl (9.6 kB)\n",
      "Requirement already satisfied: jedi>=0.10 in /usr/local/Cellar/jupyterlab/2.2.2/libexec/lib/python3.8/site-packages (from ipython>=4.0.0; python_version >= \"3.3\"->ipywidgets) (0.17.2)\n",
      "Requirement already satisfied: pickleshare in /usr/local/Cellar/jupyterlab/2.2.2/libexec/lib/python3.8/site-packages (from ipython>=4.0.0; python_version >= \"3.3\"->ipywidgets) (0.7.5)\n",
      "Requirement already satisfied: prompt_toolkit!=3.0.0,!=3.0.1,<3.1.0,>=2.0.0 in /usr/local/Cellar/jupyterlab/2.2.2/libexec/lib/python3.8/site-packages (from ipython>=4.0.0; python_version >= \"3.3\"->ipywidgets) (3.0.5)\n",
      "Requirement already satisfied: pygments in /usr/local/Cellar/jupyterlab/2.2.2/libexec/lib/python3.8/site-packages (from ipython>=4.0.0; python_version >= \"3.3\"->ipywidgets) (2.6.1)\n",
      "Requirement already satisfied: backcall in /usr/local/Cellar/jupyterlab/2.2.2/libexec/lib/python3.8/site-packages (from ipython>=4.0.0; python_version >= \"3.3\"->ipywidgets) (0.2.0)\n",
      "Requirement already satisfied: appnope in /usr/local/Cellar/jupyterlab/2.2.2/libexec/lib/python3.8/site-packages (from ipython>=4.0.0; python_version >= \"3.3\"->ipywidgets) (0.1.0)\n",
      "Requirement already satisfied: pexpect in /usr/local/Cellar/jupyterlab/2.2.2/libexec/lib/python3.8/site-packages (from ipython>=4.0.0; python_version >= \"3.3\"->ipywidgets) (4.8.0)\n",
      "Requirement already satisfied: ipython_genutils in /usr/local/Cellar/jupyterlab/2.2.2/libexec/lib/python3.8/site-packages (from nbformat>=4.2.0->ipywidgets) (0.2.0)\n",
      "Requirement already satisfied: jsonschema!=2.5.0,>=2.4 in /usr/local/Cellar/jupyterlab/2.2.2/libexec/lib/python3.8/site-packages (from nbformat>=4.2.0->ipywidgets) (3.2.0)\n",
      "Requirement already satisfied: jupyter_core in /usr/local/Cellar/jupyterlab/2.2.2/libexec/lib/python3.8/site-packages (from nbformat>=4.2.0->ipywidgets) (4.6.3)\n",
      "Requirement already satisfied: notebook>=4.4.1 in /usr/local/Cellar/jupyterlab/2.2.2/libexec/lib/python3.8/site-packages (from widgetsnbextension~=3.5.0->ipywidgets) (6.0.3)\n",
      "Requirement already satisfied: tornado>=4.2 in /usr/local/Cellar/jupyterlab/2.2.2/libexec/lib/python3.8/site-packages (from ipykernel>=4.5.1->ipywidgets) (6.0.4)\n",
      "Requirement already satisfied: jupyter-client in /usr/local/Cellar/jupyterlab/2.2.2/libexec/lib/python3.8/site-packages (from ipykernel>=4.5.1->ipywidgets) (6.1.6)\n",
      "Collecting pycparser\n",
      "  Using cached pycparser-2.20-py2.py3-none-any.whl (112 kB)\n",
      "Requirement already satisfied: chardet<4,>=3.0.2 in /usr/local/Cellar/jupyterlab/2.2.2/libexec/lib/python3.8/site-packages (from requests->pooch>=1.0->librosa) (3.0.4)\n",
      "Requirement already satisfied: idna<3,>=2.5 in /usr/local/Cellar/jupyterlab/2.2.2/libexec/lib/python3.8/site-packages (from requests->pooch>=1.0->librosa) (2.10)\n",
      "Requirement already satisfied: urllib3!=1.25.0,!=1.25.1,<1.26,>=1.21.1 in /usr/local/Cellar/jupyterlab/2.2.2/libexec/lib/python3.8/site-packages (from requests->pooch>=1.0->librosa) (1.25.10)\n",
      "Requirement already satisfied: certifi>=2017.4.17 in /usr/local/Cellar/jupyterlab/2.2.2/libexec/lib/python3.8/site-packages (from requests->pooch>=1.0->librosa) (2020.6.20)\n",
      "Requirement already satisfied: parso<0.8.0,>=0.7.0 in /usr/local/Cellar/jupyterlab/2.2.2/libexec/lib/python3.8/site-packages (from jedi>=0.10->ipython>=4.0.0; python_version >= \"3.3\"->ipywidgets) (0.7.1)\n",
      "Requirement already satisfied: wcwidth in /usr/local/Cellar/jupyterlab/2.2.2/libexec/lib/python3.8/site-packages (from prompt_toolkit!=3.0.0,!=3.0.1,<3.1.0,>=2.0.0->ipython>=4.0.0; python_version >= \"3.3\"->ipywidgets) (0.2.5)\n",
      "Requirement already satisfied: ptyprocess>=0.5 in /usr/local/Cellar/jupyterlab/2.2.2/libexec/lib/python3.8/site-packages (from pexpect->ipython>=4.0.0; python_version >= \"3.3\"->ipywidgets) (0.6.0)\n",
      "Requirement already satisfied: attrs>=17.4.0 in /usr/local/Cellar/jupyterlab/2.2.2/libexec/lib/python3.8/site-packages (from jsonschema!=2.5.0,>=2.4->nbformat>=4.2.0->ipywidgets) (19.3.0)\n"
     ]
    },
    {
     "name": "stdout",
     "output_type": "stream",
     "text": [
      "Requirement already satisfied: pyrsistent>=0.14.0 in /usr/local/Cellar/jupyterlab/2.2.2/libexec/lib/python3.8/site-packages (from jsonschema!=2.5.0,>=2.4->nbformat>=4.2.0->ipywidgets) (0.16.0)\n",
      "Requirement already satisfied: jinja2 in /usr/local/Cellar/jupyterlab/2.2.2/libexec/lib/python3.8/site-packages (from notebook>=4.4.1->widgetsnbextension~=3.5.0->ipywidgets) (2.11.2)\n",
      "Requirement already satisfied: pyzmq>=17 in /usr/local/Cellar/jupyterlab/2.2.2/libexec/lib/python3.8/site-packages (from notebook>=4.4.1->widgetsnbextension~=3.5.0->ipywidgets) (19.0.1)\n",
      "Requirement already satisfied: nbconvert in /usr/local/Cellar/jupyterlab/2.2.2/libexec/lib/python3.8/site-packages (from notebook>=4.4.1->widgetsnbextension~=3.5.0->ipywidgets) (5.6.1)\n",
      "Requirement already satisfied: Send2Trash in /usr/local/Cellar/jupyterlab/2.2.2/libexec/lib/python3.8/site-packages (from notebook>=4.4.1->widgetsnbextension~=3.5.0->ipywidgets) (1.5.0)\n",
      "Requirement already satisfied: terminado>=0.8.1 in /usr/local/Cellar/jupyterlab/2.2.2/libexec/lib/python3.8/site-packages (from notebook>=4.4.1->widgetsnbextension~=3.5.0->ipywidgets) (0.8.3)\n",
      "Requirement already satisfied: prometheus_client in /usr/local/Cellar/jupyterlab/2.2.2/libexec/lib/python3.8/site-packages (from notebook>=4.4.1->widgetsnbextension~=3.5.0->ipywidgets) (0.8.0)\n",
      "Requirement already satisfied: MarkupSafe>=0.23 in /usr/local/Cellar/jupyterlab/2.2.2/libexec/lib/python3.8/site-packages (from jinja2->notebook>=4.4.1->widgetsnbextension~=3.5.0->ipywidgets) (1.1.1)\n",
      "Requirement already satisfied: mistune<2,>=0.8.1 in /usr/local/Cellar/jupyterlab/2.2.2/libexec/lib/python3.8/site-packages (from nbconvert->notebook>=4.4.1->widgetsnbextension~=3.5.0->ipywidgets) (0.8.4)\n",
      "Requirement already satisfied: entrypoints>=0.2.2 in /usr/local/Cellar/jupyterlab/2.2.2/libexec/lib/python3.8/site-packages (from nbconvert->notebook>=4.4.1->widgetsnbextension~=3.5.0->ipywidgets) (0.3)\n",
      "Requirement already satisfied: bleach in /usr/local/Cellar/jupyterlab/2.2.2/libexec/lib/python3.8/site-packages (from nbconvert->notebook>=4.4.1->widgetsnbextension~=3.5.0->ipywidgets) (3.1.5)\n",
      "Requirement already satisfied: pandocfilters>=1.4.1 in /usr/local/Cellar/jupyterlab/2.2.2/libexec/lib/python3.8/site-packages (from nbconvert->notebook>=4.4.1->widgetsnbextension~=3.5.0->ipywidgets) (1.4.2)\n",
      "Requirement already satisfied: testpath in /usr/local/Cellar/jupyterlab/2.2.2/libexec/lib/python3.8/site-packages (from nbconvert->notebook>=4.4.1->widgetsnbextension~=3.5.0->ipywidgets) (0.4.4)\n",
      "Requirement already satisfied: defusedxml in /usr/local/Cellar/jupyterlab/2.2.2/libexec/lib/python3.8/site-packages (from nbconvert->notebook>=4.4.1->widgetsnbextension~=3.5.0->ipywidgets) (0.6.0)\n",
      "Requirement already satisfied: webencodings in /usr/local/Cellar/jupyterlab/2.2.2/libexec/lib/python3.8/site-packages (from bleach->nbconvert->notebook>=4.4.1->widgetsnbextension~=3.5.0->ipywidgets) (0.5.1)\n",
      "Installing collected packages: numpy, kiwisolver, cycler, pillow, matplotlib, future, torch, torchvision, threadpoolctl, joblib, scipy, scikit-learn, llvmlite, numba, pycparser, cffi, soundfile, resampy, appdirs, pooch, audioread, librosa, pyaudio, numpy-ringbuffer, widgetsnbextension, ipywidgets\n",
      "Successfully installed appdirs-1.4.4 audioread-2.1.8 cffi-1.14.1 cycler-0.10.0 future-0.18.2 ipywidgets-7.5.1 joblib-0.16.0 kiwisolver-1.2.0 librosa-0.8.0 llvmlite-0.33.0 matplotlib-3.3.0 numba-0.50.1 numpy-1.19.1 numpy-ringbuffer-0.2.1 pillow-7.2.0 pooch-1.1.1 pyaudio-0.2.11 pycparser-2.20 resampy-0.2.2 scikit-learn-0.23.1 scipy-1.5.2 soundfile-0.10.3.post1 threadpoolctl-2.1.0 torch-1.6.0 torchvision-0.7.0 widgetsnbextension-3.5.1\n",
      "Note: you may need to restart the kernel to use updated packages.\n"
     ]
    }
   ],
   "source": [
    "pip install numpy matplotlib torch torchvision scikit-learn librosa pyaudio numpy_ringbuffer ipywidgets"
   ]
  },
  {
   "cell_type": "markdown",
   "metadata": {},
   "source": [
    "## Test setup\n",
    "\n",
    "In the code below, we load (\"import\") the libraries that we just installed above, to make sure that Python can find the libraries. \n"
   ]
  },
  {
   "cell_type": "code",
   "execution_count": 5,
   "metadata": {
    "ExecuteTime": {
     "end_time": "2020-08-02T19:47:07.952567Z",
     "start_time": "2020-08-02T19:47:06.890917Z"
    }
   },
   "outputs": [
    {
     "name": "stdout",
     "output_type": "stream",
     "text": [
      "-------Found all built-in libraries.-------\n",
      "Found numpy  1.19.1\n",
      "Found matplotlib  3.3.0\n",
      "-------Found all math libraries.-------\n",
      "Found pyaudio  0.2.11\n",
      "Found librosa  0.8.0\n",
      "-------Found all audio libraries.-------\n",
      "Found torch  1.6.0\n",
      "-------Found all machine learning libraries.-------\n"
     ]
    }
   ],
   "source": [
    "import csv\n",
    "import os\n",
    "import wave\n",
    "import time\n",
    "import multiprocessing\n",
    "from threading import Thread\n",
    "import os\n",
    "print(\"-------Found all built-in libraries.-------\")\n",
    "import numpy as np\n",
    "print(\"Found numpy \",np.__version__)\n",
    "import matplotlib\n",
    "print(\"Found matplotlib \",matplotlib.__version__)\n",
    "print(\"-------Found all math libraries.-------\")\n",
    "import pyaudio\n",
    "print(\"Found pyaudio \",pyaudio.__version__)\n",
    "import librosa\n",
    "print(\"Found librosa \",librosa.__version__)\n",
    "print(\"-------Found all audio libraries.-------\")\n",
    "import torch\n",
    "print(\"Found torch \",torch.__version__)\n",
    "from torchvision import datasets, transforms, models\n",
    "from sklearn.metrics import confusion_matrix\n",
    "print(\"-------Found all machine learning libraries.-------\")\n"
   ]
  },
  {
   "cell_type": "markdown",
   "metadata": {},
   "source": [
    "If the above code runs without a problem, all libraries have installed and can be loaded. While it does not gurantee that everything will work, this is a very good sign.\n"
   ]
  }
 ],
 "metadata": {
  "kernelspec": {
   "display_name": "Python 3",
   "language": "python",
   "name": "python3"
  },
  "language_info": {
   "codemirror_mode": {
    "name": "ipython",
    "version": 3
   },
   "file_extension": ".py",
   "mimetype": "text/x-python",
   "name": "python",
   "nbconvert_exporter": "python",
   "pygments_lexer": "ipython3",
   "version": "3.8.5"
  },
  "toc": {
   "base_numbering": 1,
   "nav_menu": {},
   "number_sections": true,
   "sideBar": true,
   "skip_h1_title": false,
   "title_cell": "Table of Contents",
   "title_sidebar": "Contents",
   "toc_cell": false,
   "toc_position": {},
   "toc_section_display": true,
   "toc_window_display": false
  }
 },
 "nbformat": 4,
 "nbformat_minor": 2
}
